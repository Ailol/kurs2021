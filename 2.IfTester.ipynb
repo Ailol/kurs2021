{
 "cells": [
  {
   "cell_type": "code",
   "execution_count": null,
   "metadata": {},
   "outputs": [],
   "source": [
    "Vi starter med kontroll strukturer, \n",
    "\n",
    "Like:   ==\n",
    "Ulike: !=\n",
    "Større enn: >\n",
    "Mindre enn: <\n",
    "Større enn eller lik: >=\n",
    "Mindre enn eller lik: <=\n",
    "    \n"
   ]
  },
  {
   "cell_type": "code",
   "execution_count": 4,
   "metadata": {},
   "outputs": [
    {
     "name": "stdout",
     "output_type": "stream",
     "text": [
      "  \n"
     ]
    }
   ],
   "source": [
    "# Par korte eksempler om hvordan kontroll strukturer kan bli brukt\n",
    "\n",
    "if 1 < 2:\n",
    "    print(\" \")\n",
    "if 1 > 2:\n",
    "    print(\" \")"
   ]
  },
  {
   "cell_type": "code",
   "execution_count": 1,
   "metadata": {},
   "outputs": [
    {
     "name": "stdout",
     "output_type": "stream",
     "text": [
      "Dette er sant\n"
     ]
    }
   ],
   "source": [
    "#  <\n",
    "\n",
    "#  > \n",
    "\n",
    "# ==\n",
    "\n",
    "# !=\n",
    "\n",
    "# >=\n",
    "\n",
    "# <=\n"
   ]
  },
  {
   "cell_type": "code",
   "execution_count": 2,
   "metadata": {},
   "outputs": [
    {
     "name": "stdout",
     "output_type": "stream",
     "text": [
      "Dette er sant\n"
     ]
    }
   ],
   "source": [
    "#Vi kan også kombinere det med variabler, i dette tilfellet integer variabler.\n",
    "\n",
    "\n"
   ]
  },
  {
   "cell_type": "code",
   "execution_count": 24,
   "metadata": {},
   "outputs": [
    {
     "name": "stdin",
     "output_type": "stream",
     "text": [
      "Oppgi grader ute:  -16\n"
     ]
    },
    {
     "name": "stdout",
     "output_type": "stream",
     "text": [
      "Det er kaldt ute, ta på en frakk\n"
     ]
    }
   ],
   "source": [
    "# Lag et program som tar inn bruker input. Deretter evaluer bruker input med følgende parametere:\n",
    "#\n",
    "#    -15: print ut \"Det er kaldt ute, ta på en frakk\"\n",
    "#     15: print ut \"Det er varmt ute, ta av frakken\"\n",
    "#\n"
   ]
  },
  {
   "cell_type": "code",
   "execution_count": null,
   "metadata": {},
   "outputs": [],
   "source": [
    "### her har vi en større oppgave, vi går igjennom logikken først, deretter skal dere fylle inn hva som mangler. "
   ]
  },
  {
   "cell_type": "code",
   "execution_count": null,
   "metadata": {},
   "outputs": [],
   "source": []
  }
 ],
 "metadata": {
  "kernelspec": {
   "display_name": "Python 3",
   "language": "python",
   "name": "python3"
  },
  "language_info": {
   "codemirror_mode": {
    "name": "ipython",
    "version": 3
   },
   "file_extension": ".py",
   "mimetype": "text/x-python",
   "name": "python",
   "nbconvert_exporter": "python",
   "pygments_lexer": "ipython3",
   "version": "3.8.6"
  }
 },
 "nbformat": 4,
 "nbformat_minor": 4
}
