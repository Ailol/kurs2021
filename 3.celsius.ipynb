{
 "cells": [
  {
   "cell_type": "code",
   "execution_count": null,
   "metadata": {},
   "outputs": [],
   "source": [
    "Nå skal dere selv søke opp funksjonen til hvordan man kan omgjøre fahrenheit til celsius.\n",
    "Her anbefales det å bruke søkemotor(google) til å finne en riktig formel.\n",
    "eks:\n",
    "    \"Convert celsius to python fahrenheit\"\n",
    "\n",
    "    "
   ]
  },
  {
   "cell_type": "markdown",
   "metadata": {},
   "source": [
    "Nå skal dere selv søke opp funksjonen til hvordan man kan omgjøre fahrenheit til celsius.\n",
    "Her anbefales det å bruke søkemotor(google) til å finne en riktig formel.\n",
    "eks:\n",
    "    \"Convert celsius to python fahrenheit\"\n",
    "\n",
    "    "
   ]
  },
  {
   "cell_type": "code",
   "execution_count": 7,
   "metadata": {},
   "outputs": [
    {
     "name": "stdout",
     "output_type": "stream",
     "text": [
      "C:  32\n",
      "F:  89.6\n"
     ]
    }
   ],
   "source": [
    "# definer celsius\n",
    "\n",
    "\n",
    "# deretter formel for å omgjøre c til f.\n",
    "\n",
    "\n",
    "\n",
    "\n"
   ]
  },
  {
   "cell_type": "markdown",
   "metadata": {},
   "source": [
    "### Vi utvider forrige program med å lage en interval. \n",
    "Her skal vil ta i bruk \"løkker\" for å regne ut et intervall av celsius til fahrenheit. "
   ]
  },
  {
   "cell_type": "code",
   "execution_count": null,
   "metadata": {},
   "outputs": [],
   "source": [
    "\n",
    "# Dere trenger følgende:\n",
    "#\n",
    "# 3 input verdier(start, stop, og spranget mellom temperaturer)\n",
    "#\n",
    "# Deretter en løkke for å regne ut og printe svaret.\n",
    "#\n",
    "# Pseudokode:\n",
    "# \n",
    "# start = hent bruker input\n",
    "# Slutt = hent bruker input\n",
    "# sprang = hent bruker input\n",
    "\n",
    "#\n",
    "# for teller i intervallet(x,y,n)\n",
    "#    fahrenheit = 1.8 * i + 32\n",
    "#    print(svaret)\n",
    "\n"
   ]
  }
 ],
 "metadata": {
  "kernelspec": {
   "display_name": "Python 3",
   "language": "python",
   "name": "python3"
  },
  "language_info": {
   "codemirror_mode": {
    "name": "ipython",
    "version": 3
   },
   "file_extension": ".py",
   "mimetype": "text/x-python",
   "name": "python",
   "nbconvert_exporter": "python",
   "pygments_lexer": "ipython3",
   "version": "3.8.6"
  }
 },
 "nbformat": 4,
 "nbformat_minor": 4
}
