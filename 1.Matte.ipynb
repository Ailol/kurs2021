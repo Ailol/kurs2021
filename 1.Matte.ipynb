{
 "cells": [
  {
   "cell_type": "markdown",
   "metadata": {},
   "source": [
    "#  Kurs materiale for dag 1\n",
    "### Først starter vi enkelt med å bruke følgende funksjoner:\n",
    "    - print()\n",
    "    - input()\n",
    "\n",
    "Disse er to hovedfunksjoner vi skal fokusere på.\n",
    "\n"
   ]
  },
  {
   "cell_type": "code",
   "execution_count": null,
   "metadata": {},
   "outputs": [],
   "source": [
    "# Først printer dere ut en string\n",
    "\n",
    "# Print ut 1+2, både som string og som en matteoppgave\n"
   ]
  },
  {
   "cell_type": "markdown",
   "metadata": {},
   "source": [
    "### Vi fortsetter med print, men nå skal vi ta i bruk variabler.\n"
   ]
  },
  {
   "cell_type": "code",
   "execution_count": null,
   "metadata": {},
   "outputs": [],
   "source": [
    "\n",
    "# a + b = 5\n",
    "\n",
    "# a + b * c = 35\n",
    "\n",
    "# a * b * c = 60\n"
   ]
  },
  {
   "cell_type": "markdown",
   "metadata": {},
   "source": [
    "### Nå skal dere \"oversette\" formler til fungerende python kode,  Programmer hvert uttrykk og sjekk at det ble riktig.\n"
   ]
  },
  {
   "cell_type": "code",
   "execution_count": 5,
   "metadata": {},
   "outputs": [
    {
     "name": "stdout",
     "output_type": "stream",
     "text": [
      "121.33333333333333\n"
     ]
    }
   ],
   "source": [
    "\n",
    "## Vi regner ut følgende uttrykk:\n",
    "#1.  1+2  * 3\n",
    "   \n",
    "#2. (1+2) * 3\n",
    " \n",
    "#3. (1+2) / 3\n",
    "\n",
    "#4. (1+2) * 3²   \n",
    "\n",
    "\n"
   ]
  },
  {
   "cell_type": "code",
   "execution_count": null,
   "metadata": {},
   "outputs": [],
   "source": [
    "\n",
    "# a) 2+3*4+6/2\n",
    "\n",
    "# b) 1/2**3**2\n",
    "\n",
    "# c) 1/(1+1/(1+2))\n",
    "\n",
    "# d) (1+2**3)**(5-3*2)\n",
    "\n",
    "# e) 2**-1*3\n"
   ]
  },
  {
   "cell_type": "markdown",
   "metadata": {},
   "source": [
    "Nå importerer vi biblioteket math og begynner med litt matematikkfunksjoner. \n",
    "Vi kan bruke en del forskjellige funksjoner som ligger inne på math biblioteket.\n",
    "\n",
    "følgende funksjoner skal vi bruke under.\n",
    "\n",
    "    - math.pi\n",
    "    - math.sqrt()\n",
    "    \n",
    "\n"
   ]
  },
  {
   "cell_type": "code",
   "execution_count": 8,
   "metadata": {},
   "outputs": [
    {
     "data": {
      "text/plain": [
       "1.4142135623730951"
      ]
     },
     "execution_count": 8,
     "metadata": {},
     "output_type": "execute_result"
    }
   ],
   "source": [
    "import math\n",
    "\n",
    "#Nå skal vi løse kvadraroten av tallet 2. \n",
    "# Her skal dere bruke math.sqrt(___).\n",
    "\n"
   ]
  },
  {
   "cell_type": "code",
   "execution_count": 6,
   "metadata": {},
   "outputs": [
    {
     "name": "stdout",
     "output_type": "stream",
     "text": [
      "19.634954084936208\n"
     ]
    }
   ],
   "source": [
    "# Dette \"predefinerte\" funksjoner som man kan dra inn. \n",
    "import math\n",
    "\n",
    "#først løser vi sirkelareal:\n",
    "#\n",
    "# A=πr2\n",
    "#\n",
    "# radius skal være på 2.5\n",
    "# bruk math.pi for å regne ut\n",
    "# \n",
    "\n"
   ]
  },
  {
   "cell_type": "code",
   "execution_count": null,
   "metadata": {},
   "outputs": [],
   "source": [
    "import math\n",
    "\n",
    "# Vi fortsetter med sirkel utregning, nå skal vi ta i bruk input() og float() funksjonen.\n",
    "# dere skal regne ut en sirkel med utgangspunkt i et oppgitt areal\n",
    "\n",
    "#først henter dere inn input(\"...\")\n",
    "\n",
    "\n",
    "\n",
    "# deretter må dere omgjøre input fra string til float.\n",
    "\n",
    "\n",
    "#også regne ut radius\n",
    "\n",
    "\n",
    "\n",
    "\n"
   ]
  }
 ],
 "metadata": {
  "kernelspec": {
   "display_name": "Python 3",
   "language": "python",
   "name": "python3"
  },
  "language_info": {
   "codemirror_mode": {
    "name": "ipython",
    "version": 3
   },
   "file_extension": ".py",
   "mimetype": "text/x-python",
   "name": "python",
   "nbconvert_exporter": "python",
   "pygments_lexer": "ipython3",
   "version": "3.8.6"
  }
 },
 "nbformat": 4,
 "nbformat_minor": 4
}
