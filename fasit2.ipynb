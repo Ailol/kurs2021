{
 "cells": [
  {
   "cell_type": "code",
   "execution_count": null,
   "metadata": {},
   "outputs": [],
   "source": [
    "# Lag et program som tar inn bruker input. Deretter evaluer bruker input med følgende parametere:\n",
    "#\n",
    "#    -15: print ut \"Det er kaldt ute, ta på en frakk\"\n",
    "#     15: print ut \"Det er varmt ute, ta av frakken\"\n",
    "#\n",
    "\n",
    "temp = float(input(\"Oppgi grader ute: \"))\n",
    "if temp <= -15:\n",
    "    print(\"Det er kaldt ute, ta på en frakk\")\n",
    "elif temp >= 15:\n",
    "    print(\"Det er varmt ute, ta av frakken\")\n",
    "else:\n",
    "    print(\"behagelig temperatur\")"
   ]
  }
 ],
 "metadata": {
  "kernelspec": {
   "display_name": "Python 3",
   "language": "python",
   "name": "python3"
  },
  "language_info": {
   "codemirror_mode": {
    "name": "ipython",
    "version": 3
   },
   "file_extension": ".py",
   "mimetype": "text/x-python",
   "name": "python",
   "nbconvert_exporter": "python",
   "pygments_lexer": "ipython3",
   "version": "3.8.6"
  }
 },
 "nbformat": 4,
 "nbformat_minor": 4
}
