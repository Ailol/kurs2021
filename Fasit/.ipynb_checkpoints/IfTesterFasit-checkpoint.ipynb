{
 "cells": [
  {
   "cell_type": "markdown",
   "metadata": {},
   "source": [
    "# Python programmering : if-else\n",
    "Vi starter med kontroll strukturer, \n",
    "\n",
    "- Like:   ==\n",
    "- Ulike: !=\n",
    "- Større enn: >\n",
    "- Mindre enn: <\n",
    "- Større enn eller lik: >=\n",
    "- Mindre enn eller lik: <=\n",
    "    \n",
    "    \n",
    "for å bruke en if test så er syntaksen følgende:\n",
    "> Pseudokode:\n",
    "> Hvis 1 er mindre enn 2:\n",
    ">     ...\n",
    "> ellers:\n",
    ">     ...\n",
    "    \n"
   ]
  },
  {
   "cell_type": "code",
   "execution_count": null,
   "metadata": {},
   "outputs": [],
   "source": [
    "## Par korte eksempler om hvordan kontroll strukturer kan bli brukt"
   ]
  },
  {
   "cell_type": "code",
   "execution_count": 1,
   "metadata": {},
   "outputs": [
    {
     "name": "stdout",
     "output_type": "stream",
     "text": [
      "\n"
     ]
    }
   ],
   "source": [
    "# Eksempel:\n",
    "print(\"\\n\")\n",
    "\n",
    "if 1 < 2:\n",
    "    print(\"[IF] Dette er sant, så vil dette printes ut.\")\n",
    "else:\n",
    "    print(\"[ELSE] Dette vil ikke printes ut\")\n",
    "\n",
    "\n",
    "print(\"\\n --------------------------- \\n\")\n",
    "    \n",
    "\n",
    "    \n",
    "# Hvis vi reverserer krokodillen, vil følgende skje:\n",
    "if 1 > 2:\n",
    "    print(\"[IF] Dette er ikke sant, derfor printes ikke dette ut\")\n",
    "else:\n",
    "    print(\"[ELSE] Nå printes dette\")\n",
    "\n",
    "print(\"\\n\")"
   ]
  },
  {
   "cell_type": "markdown",
   "metadata": {},
   "source": [
    "### Nå skal dere lage enkle if tester, dersom dere er usikker på oppgave, prøv dere først bare på IF. \n"
   ]
  },
  {
   "cell_type": "code",
   "execution_count": null,
   "metadata": {},
   "outputs": [],
   "source": [
    "#  <\n",
    "if 2 < 3:\n",
    "    print(\"2 er mindre enn 3\")\n",
    "#  >\n",
    "if 3 > 2:\n",
    "    print(\"3 er større enn 2\")\n",
    "\n",
    "# ==\n",
    "if 3 == 3:\n",
    "    print(\"3 er lik 3\")\n",
    "\n",
    "# !=\n",
    "if 3 != 2:\n",
    "    print(\"3 er ikke lik 2\")\n",
    "\n"
   ]
  },
  {
   "cell_type": "code",
   "execution_count": 2,
   "metadata": {},
   "outputs": [
    {
     "name": "stdout",
     "output_type": "stream",
     "text": [
      "\n"
     ]
    }
   ],
   "source": [
    "### Vi kan også kombinere det med variabler, i dette tilfellet integer variabler. Nå skal dere ta med else.\n",
    "\n",
    "Eksempel:\n",
    "\n",
    "a = ..\n",
    "b = ..\n",
    "\n",
    "> if a < b:\n",
    ">    print(\"a er mindre enn b\")\n",
    "> else:\n",
    ">    print(\"b er mindre enn a)\n",
    "\n"
   ]
  },
  {
   "cell_type": "code",
   "execution_count": 2,
   "metadata": {},
   "outputs": [
    {
     "name": "stdout",
     "output_type": "stream",
     "text": [
      "\n"
     ]
    }
   ],
   "source": [
    "#  <\n",
    "\n",
    "#  > \n",
    "\n",
    "# ==\n",
    "\n",
    "# !=\n",
    "\n",
    "# >=\n",
    "\n",
    "# <=\n"
   ]
  },
  {
   "cell_type": "markdown",
   "metadata": {},
   "source": [
    "## Første \"program\"\n",
    "\n",
    "Lag et program som tar inn bruker input. Deretter evaluer bruker input med følgende parametere:\n",
    "     \n",
    "     \n",
    "     0-10:  print ut \"Det er kaldt ute, ta på en frakk\"\n",
    "     11-20: print ut \"Det er varmt ute, ta av frakken\"\n",
    "     21+  : print ut \"Det er sommer! ta på shortsen\"\n",
    " \n"
   ]
  },
  {
   "cell_type": "code",
   "execution_count": null,
   "metadata": {},
   "outputs": [],
   "source": [
    "\n",
    "\n",
    "temp = int(input(\"Oppgi grader ute: \"))\n",
    "\n",
    "if temp >= 0:\n",
    "    print(\"Det er kaldt ute, ta på en frakk\")\n",
    "elif temp >= 11:\n",
    "    print(\"Det er varmt ute, ta av frakken\")\n",
    "\n",
    "elif temp >= 21:\n",
    "    print(\"Det er sommer! ta på shortsen\")"
   ]
  },
  {
   "cell_type": "code",
   "execution_count": null,
   "metadata": {},
   "outputs": [],
   "source": []
  }
 ],
 "metadata": {
  "kernelspec": {
   "display_name": "Python 3",
   "language": "python",
   "name": "python3"
  },
  "language_info": {
   "codemirror_mode": {
    "name": "ipython",
    "version": 3
   },
   "file_extension": ".py",
   "mimetype": "text/x-python",
   "name": "python",
   "nbconvert_exporter": "python",
   "pygments_lexer": "ipython3",
   "version": "3.8.6"
  }
 },
 "nbformat": 4,
 "nbformat_minor": 4
}
