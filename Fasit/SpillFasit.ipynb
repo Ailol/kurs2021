{
 "cells": [
  {
   "cell_type": "markdown",
   "metadata": {},
   "source": [
    "# Spill\n",
    "Vi skal lage et gjette spill, hvor spilleren skal klare å gjette riktig tall.\n",
    "\n",
    "Vi trenger følgende:\n",
    "\n",
    "    - To variabler\n",
    "        * riktig tall\n",
    "        * Gjettet tall\n",
    "    - En input variabel\n",
    "    - Vi trenger en if test for å sjekke om brukeren har gjettet riktig tall\n",
    "    - En print som forteller om brukeren traff riktig eller ikke.   \n",
    "    "
   ]
  },
  {
   "cell_type": "code",
   "execution_count": null,
   "metadata": {},
   "outputs": [],
   "source": [
    "fasit = 7   \n",
    "gjett = int(input(\"Gjett et tall mellom 1 og 10: \"))\n",
    "\n",
    "if gjett == fasit:\n",
    "    print(\"Du gjettet riktig\")\n"
   ]
  },
  {
   "cell_type": "markdown",
   "metadata": {},
   "source": [
    "# Randomisert tall\n",
    "\n",
    "For å gjøre spillet litt mer spennende, så lager vi et randomisert tall,\n",
    "vi må derfor hente inn en ekstern bibliotek, random.\n",
    "\n",
    "\n",
    "    - To variabler\n",
    "        * Randomisert fasit svar\n",
    "        * Gjettet tall\n",
    "  \n",
    "    - input som henter inn bruker tall\n",
    "    - en print som informerer om brukeren har riktig tall eller ikke\n",
    "        \n"
   ]
  },
  {
   "cell_type": "code",
   "execution_count": null,
   "metadata": {},
   "outputs": [],
   "source": [
    "import random \n",
    "gjett = int(input(\"Gjett et tall mellom 1 til 10: \"))  \n",
    "fasit = random.randint(1,10)       \n",
    "\n",
    "\n",
    "if gjett == fasit\n",
    "    print(\"Du gjettet riktig\")\n",
    "else:\n",
    "    print(\"Du gjettet feil\")\n"
   ]
  },
  {
   "cell_type": "markdown",
   "metadata": {},
   "source": [
    "## Spill med en løkke\n",
    "Vi utvider funksjonaliteten på forrige spill ved å lage en løkke. \n",
    "Vi trenger følgende:\n",
    "\n",
    "    - To variabler\n",
    "        * Randomisert fasit svar\n",
    "        * Gjettet tall\n",
    "    - en løkke som lar brukeren gå igjennom flere gjett.\n",
    "    - input som henter inn bruker tall\n",
    "    - en print som informerer om brukeren har riktig tall eller ikke\n",
    "        "
   ]
  },
  {
   "cell_type": "code",
   "execution_count": 13,
   "metadata": {},
   "outputs": [
    {
     "name": "stdin",
     "output_type": "stream",
     "text": [
      "Gjett et tall mellom 1 til 10:  10\n",
      "Gjett et tall mellom 1 og 10:  5\n",
      "Gjett et tall mellom 1 og 10:  3\n",
      "Gjett et tall mellom 1 og 10:  6\n",
      "Gjett et tall mellom 1 og 10:  7\n",
      "Gjett et tall mellom 1 og 10:  8\n",
      "Gjett et tall mellom 1 og 10:  9\n",
      "Gjett et tall mellom 1 og 10:  1\n",
      "Gjett et tall mellom 1 og 10:  4\n"
     ]
    },
    {
     "name": "stdout",
     "output_type": "stream",
     "text": [
      "Du gjettet riktig! tallet var: 4\n"
     ]
    }
   ],
   "source": [
    "import random\n",
    "\n",
    "gjett = int(input(\"Gjett et tall mellom 1 til 10: \"))\n",
    "fasit = random.randint(1,10)\n",
    "\n",
    "while gjett != fasit:   \n",
    "    gjett = int(input(\"Gjett et tall mellom 1 og 10: \"))\n",
    "\n",
    "print(\"Du gjettet riktig! tallet var:\", gjett)\n",
    "\n"
   ]
  },
  {
   "cell_type": "markdown",
   "metadata": {},
   "source": [
    "# Høy lav spill \n",
    "\n",
    "Under har dere en litt mer utvided spillprogram.\n",
    "Vi trenger følgende:\n",
    "    \n",
    "    - To variabler\n",
    "    * Randomisert fasit svar\n",
    "    * Gjettet tall\n",
    "- en løkke som lar brukeren gå igjennom flere gjett.\n",
    "- input som henter inn bruker tall\n",
    "- en print som informerer om brukeren har riktig tall eller ikke\n",
    "\n"
   ]
  },
  {
   "cell_type": "code",
   "execution_count": 11,
   "metadata": {},
   "outputs": [
    {
     "name": "stdin",
     "output_type": "stream",
     "text": [
      "Gjett et tall mellom 1,10 10\n"
     ]
    },
    {
     "name": "stdout",
     "output_type": "stream",
     "text": [
      "lavere\n"
     ]
    },
    {
     "name": "stdin",
     "output_type": "stream",
     "text": [
      "Gjett et tall mellom 1,10 5\n"
     ]
    },
    {
     "name": "stdout",
     "output_type": "stream",
     "text": [
      "høyere\n"
     ]
    },
    {
     "name": "stdin",
     "output_type": "stream",
     "text": [
      "Gjett et tall mellom 1,10 6\n"
     ]
    },
    {
     "name": "stdout",
     "output_type": "stream",
     "text": [
      "høyere\n"
     ]
    },
    {
     "name": "stdin",
     "output_type": "stream",
     "text": [
      "Gjett et tall mellom 1,10 7\n"
     ]
    },
    {
     "name": "stdout",
     "output_type": "stream",
     "text": [
      "høyere\n"
     ]
    },
    {
     "name": "stdin",
     "output_type": "stream",
     "text": [
      "Gjett et tall mellom 1,10 8\n"
     ]
    },
    {
     "name": "stdout",
     "output_type": "stream",
     "text": [
      "høyere\n"
     ]
    },
    {
     "name": "stdin",
     "output_type": "stream",
     "text": [
      "Gjett et tall mellom 1,10 9\n"
     ]
    },
    {
     "name": "stdout",
     "output_type": "stream",
     "text": [
      "\n",
      "\n",
      "Riktig  tall : 9 \n",
      "Antall  gjett: 6\n"
     ]
    }
   ],
   "source": [
    "import random\n",
    "\n",
    "gjettet_tall = 0\n",
    "fasit_tall = random.randint(1,10)\n",
    "antall_gjett = 0\n",
    "\n",
    "while gjett != fasit_tall:   \n",
    "    gjettet_tall = int(input(\"Gjett et tall mellom 1 og 10: \"))\n",
    "\n",
    "    antall_gjett = antall_gjett + 1\n",
    "    \n",
    "    if gjettet_tall < fasit_tall:\n",
    "        print(\"høyere\")\n",
    "\n",
    "    if gjettet_tall > fasit_tall:\n",
    "        print(\"lavere\")\n",
    "        \n",
    "    if gjettet_tall == fasit_tall:\n",
    "    \tbreak\n",
    "\n",
    "print(\"\\n\\nRiktig tall :\" ,fasit_tall, \"\\nAntall gjett:\", antall_gjett)"
   ]
  },
  {
   "cell_type": "code",
   "execution_count": 2,
   "metadata": {},
   "outputs": [
    {
     "name": "stdin",
     "output_type": "stream",
     "text": [
      "Gjett et tall mellom 1 og 10:  7\n"
     ]
    },
    {
     "name": "stdout",
     "output_type": "stream",
     "text": [
      "Du gjettet riktig\n"
     ]
    }
   ],
   "source": []
  }
 ],
 "metadata": {
  "kernelspec": {
   "display_name": "Python 3",
   "language": "python",
   "name": "python3"
  },
  "language_info": {
   "codemirror_mode": {
    "name": "ipython",
    "version": 3
   },
   "file_extension": ".py",
   "mimetype": "text/x-python",
   "name": "python",
   "nbconvert_exporter": "python",
   "pygments_lexer": "ipython3",
   "version": "3.8.6"
  }
 },
 "nbformat": 4,
 "nbformat_minor": 4
}
