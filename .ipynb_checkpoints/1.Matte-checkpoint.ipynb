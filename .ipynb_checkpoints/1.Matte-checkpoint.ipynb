{
 "cells": [
  {
   "cell_type": "markdown",
   "metadata": {},
   "source": [
    "#  Python programmering \n",
    "\n",
    "### Først starter vi enkelt med å bruke følgende funksjoner:\n",
    "    - print()\n",
    "    - input()\n",
    "\n",
    "Disse er to hovedfunksjoner vi skal fokusere på.\n",
    "\n"
   ]
  },
  {
   "cell_type": "code",
   "execution_count": null,
   "metadata": {},
   "outputs": [],
   "source": [
    "# Først printer dere ut en string\n",
    "\n",
    "# Print ut 1+2, både som string og som en matteoppgave\n"
   ]
  },
  {
   "cell_type": "markdown",
   "metadata": {},
   "source": [
    "### Vi fortsetter med print, men nå skal vi ta i bruk variabler.\n"
   ]
  },
  {
   "cell_type": "code",
   "execution_count": null,
   "metadata": {},
   "outputs": [],
   "source": [
    "\n",
    "# a + b = 5\n",
    "\n",
    "# a + b * c = 35\n",
    "\n",
    "# a * b * c = 60\n"
   ]
  },
  {
   "cell_type": "markdown",
   "metadata": {},
   "source": [
    "### Nå skal dere \"oversette\" formler til fungerende python kode,  Programmer hvert uttrykk og sjekk at det ble riktig.\n"
   ]
  },
  {
   "cell_type": "code",
   "execution_count": 5,
   "metadata": {},
   "outputs": [
    {
     "name": "stdout",
     "output_type": "stream",
     "text": [
      "121.33333333333333\n"
     ]
    }
   ],
   "source": [
    "\n",
    "## Vi regner ut følgende uttrykk:\n",
    "#1.  1+2  * 3\n",
    "   \n",
    "#2. (1+2) * 3\n",
    " \n",
    "#3. (1+2) / 3\n",
    "\n",
    "#4. (1+2) * 3²   \n",
    "\n",
    "\n"
   ]
  },
  {
   "cell_type": "code",
   "execution_count": null,
   "metadata": {},
   "outputs": [],
   "source": [
    "\n",
    "# a) 2+3*4+6/2\n",
    "\n",
    "# b) 1/2**3**2\n",
    "\n",
    "# c) 1/(1+1/(1+2))\n",
    "\n",
    "# d) (1+2**3)**(5-3*2)\n",
    "\n",
    "# e) 2**-1*3\n"
   ]
  }
 ],
 "metadata": {
  "kernelspec": {
   "display_name": "Python 3",
   "language": "python",
   "name": "python3"
  },
  "language_info": {
   "codemirror_mode": {
    "name": "ipython",
    "version": 3
   },
   "file_extension": ".py",
   "mimetype": "text/x-python",
   "name": "python",
   "nbconvert_exporter": "python",
   "pygments_lexer": "ipython3",
   "version": "3.8.6"
  }
 },
 "nbformat": 4,
 "nbformat_minor": 4
}
