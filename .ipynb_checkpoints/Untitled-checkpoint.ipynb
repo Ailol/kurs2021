{
 "cells": [
  {
   "cell_type": "code",
   "execution_count": 1,
   "metadata": {},
   "outputs": [
    {
     "name": "stdin",
     "output_type": "stream",
     "text": [
      "Tast in første tallet 1\n",
      "tast in operator +\n",
      "Tast inn andre tallet 2\n"
     ]
    }
   ],
   "source": [
    "#\n",
    "#\n",
    "#    Lag en kalkulator, vi trenger følgende:\n",
    "#    3 inputs, to brukertall og en input\n",
    "#\n",
    "\n",
    "bruker_tall_1 = int(input(\"Tast in første tallet\"))\n",
    "operator = input(\"tast in operator\")\n",
    "bruker_tall_2 = int(input(\"Tast inn andre tallet\"))\n",
    "\n",
    "if operator == \"+\":\n",
    "    print(bruker_tall_1 + bruker_tall_2)\n",
    "\n"
   ]
  },
  {
   "cell_type": "code",
   "execution_count": null,
   "metadata": {},
   "outputs": [],
   "source": []
  }
 ],
 "metadata": {
  "kernelspec": {
   "display_name": "Python 3",
   "language": "python",
   "name": "python3"
  },
  "language_info": {
   "codemirror_mode": {
    "name": "ipython",
    "version": 3
   },
   "file_extension": ".py",
   "mimetype": "text/x-python",
   "name": "python",
   "nbconvert_exporter": "python",
   "pygments_lexer": "ipython3",
   "version": "3.8.6"
  }
 },
 "nbformat": 4,
 "nbformat_minor": 4
}
