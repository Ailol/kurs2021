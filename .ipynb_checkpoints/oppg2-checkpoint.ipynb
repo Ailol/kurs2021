{
 "cells": [
  {
   "cell_type": "markdown",
   "metadata": {
    "jupyter": {
     "source_hidden": true
    }
   },
   "source": [
    "Vi starter med kontroll strukturer, \n",
    "\n",
    "Like:   ==\n",
    "Ulike: !=\n",
    "Større enn: >\n",
    "Mindre enn: <\n",
    "Større enn eller lik: >=\n",
    "Mindre enn eller lik: <=\n",
    "    \n",
    "    \n",
    "Eksempelvis så brukes de slik:\n",
    "\n",
    "if 1 < 2:\n",
    "    print(\"1 er mindre enn 2)\n",
    "\n"
   ]
  },
  {
   "cell_type": "code",
   "execution_count": 1,
   "metadata": {},
   "outputs": [
    {
     "name": "stdout",
     "output_type": "stream",
     "text": [
      "Dette er sant\n"
     ]
    }
   ],
   "source": [
    "#  <\n",
    "\n",
    "#  > \n",
    "\n",
    "# ==\n",
    "\n",
    "# !=\n",
    "\n",
    "# >=\n",
    "\n",
    "# <=\n"
   ]
  },
  {
   "cell_type": "code",
   "execution_count": 2,
   "metadata": {},
   "outputs": [
    {
     "name": "stdout",
     "output_type": "stream",
     "text": [
      "Dette er sant\n"
     ]
    }
   ],
   "source": [
    "#Vi kan også kombinere det med variabler, i dette tilfellet integer variabler.\n",
    "\n",
    "\n"
   ]
  },
  {
   "cell_type": "code",
   "execution_count": 24,
   "metadata": {},
   "outputs": [
    {
     "name": "stdin",
     "output_type": "stream",
     "text": [
      "Oppgi grader ute:  -16\n"
     ]
    },
    {
     "name": "stdout",
     "output_type": "stream",
     "text": [
      "Det er kaldt ute, ta på en frakk\n"
     ]
    }
   ],
   "source": [
    "# Lag et program som tar inn bruker input. Deretter evaluer bruker input med følgende parametere:\n",
    "#\n",
    "#    -15: print ut \"Det er kaldt ute, ta på en frakk\"\n",
    "#     15: print ut \"Det er varmt ute, ta av frakken\"\n",
    "#\n"
   ]
  },
  {
   "cell_type": "code",
   "execution_count": null,
   "metadata": {},
   "outputs": [],
   "source": [
    "### her har vi en større oppgave, vi går igjennom logikken først, deretter skal dere fylle inn hva som mangler. "
   ]
  },
  {
   "cell_type": "code",
   "execution_count": null,
   "metadata": {},
   "outputs": [],
   "source": [
    "from utils import randomiser_tall, print_resultat, hent_bruker_input\n",
    "\n",
    "riktig_tall  = randomiser_tall(1,10)\n",
    "antall_gjett = 0\n",
    "\n",
    "while True:\n",
    "\n",
    "    gjettet_tall = hent_bruker_input(\"Gjett et tall mellom 1,10\")\n",
    "    antall_gjett = antall_gjett + 1\n",
    "    \n",
    "    if  < :\n",
    "        print(\"høyere\")\n",
    "\n",
    "    if  > :\n",
    "        print(\"lavere\")\n",
    "\n",
    "    if  == :\n",
    "    \tbreak\n",
    "\n",
    "print_resultat(riktig_tall, gjettet_tall, antall_gjett)"
   ]
  },
  {
   "cell_type": "markdown",
   "metadata": {},
   "source": [
    "Nå importerer vi biblioteket math og begynner med litt matematikkfunksjoner. \n",
    "Vi kan bruke en del forskjellige funksjoner som ligger inne på math biblioteket.\n",
    "\n",
    "følgende funksjoner skal vi bruke under.\n",
    "\n",
    "    - math.pi\n",
    "    - math.sqrt()\n",
    "    \n",
    "\n"
   ]
  },
  {
   "cell_type": "code",
   "execution_count": 10,
   "metadata": {},
   "outputs": [
    {
     "name": "stdin",
     "output_type": "stream",
     "text": [
      "Hva er sirkelens areal? 2\n"
     ]
    },
    {
     "name": "stdout",
     "output_type": "stream",
     "text": [
      "Radius er:  0.7978845608028654\n"
     ]
    }
   ],
   "source": [
    "\n",
    "import math\n",
    "\n",
    "# Vi fortsetter med sirkel utregning, nå skal vi ta i bruk input() og float() funksjonen.\n",
    "# dere skal regne ut en sirkel med utgangspunkt i et oppgitt areal\n",
    "\n",
    "# først henter dere inn input(\"...\")\n",
    "\n",
    "# deretter må dere omgjøre input fra string til float.\n",
    "\n",
    "# også regne ut radius, formel for radius er (areal/math.pi)**0.5\n",
    "radius = legg inn formel her\n",
    "\n",
    "print(\"Radius er: \",radius)"
   ]
  }
 ],
 "metadata": {
  "kernelspec": {
   "display_name": "Python 3",
   "language": "python",
   "name": "python3"
  },
  "language_info": {
   "codemirror_mode": {
    "name": "ipython",
    "version": 3
   },
   "file_extension": ".py",
   "mimetype": "text/x-python",
   "name": "python",
   "nbconvert_exporter": "python",
   "pygments_lexer": "ipython3",
   "version": "3.8.6"
  }
 },
 "nbformat": 4,
 "nbformat_minor": 4
}
