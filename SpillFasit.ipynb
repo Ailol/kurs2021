{
 "cells": [
  {
   "cell_type": "code",
   "execution_count": null,
   "metadata": {},
   "outputs": [],
   "source": [
    "from utils import hent_bruker_input\n",
    "\n",
    "\n",
    "gjett = 0   \n",
    "fasit = 7   \n",
    "while gjett != fasit:       \n",
    "    gjett = hent_bruker_input(\"Gjett et tall mellom 1 og 10: \")\n",
    "    \n",
    "print(\"Du gjettet riktig\")\n"
   ]
  },
  {
   "cell_type": "code",
   "execution_count": null,
   "metadata": {},
   "outputs": [],
   "source": [
    "from utils import randomiser_tall, print_resultat, hent_bruker_input\n",
    "\n",
    "riktig_tall  = randomiser_tall(1,10)\n",
    "antall_gjett = 0\n",
    "\n",
    "while True:\n",
    "\n",
    "    gjettet_tall = hent_bruker_input(\"Gjett et tall mellom 1,10\")\n",
    "    antall_gjett = antall_gjett + 1\n",
    "    \n",
    "    if gjettet_tall < riktig_tall:\n",
    "        print(\"høyere\")\n",
    "\n",
    "    if gjettet_tall > riktig_tall:\n",
    "        print(\"lavere\")\n",
    "        \n",
    "    if gjettet_tall == riktig_tall:\n",
    "    \tbreak\n",
    "\n",
    "print_resultat(riktig_tall, gjettet_tall, antall_gjett)"
   ]
  }
 ],
 "metadata": {
  "kernelspec": {
   "display_name": "Python 3",
   "language": "python",
   "name": "python3"
  },
  "language_info": {
   "codemirror_mode": {
    "name": "ipython",
    "version": 3
   },
   "file_extension": ".py",
   "mimetype": "text/x-python",
   "name": "python",
   "nbconvert_exporter": "python",
   "pygments_lexer": "ipython3",
   "version": "3.8.6"
  }
 },
 "nbformat": 4,
 "nbformat_minor": 4
}
