{
 "cells": [
  {
   "cell_type": "markdown",
   "metadata": {},
   "source": [
    "# Spill\n",
    "Vi skal lage et gjette spill, hvor spilleren skal klare å gjette riktig tall.\n",
    "\n",
    "Vi trenger følgende:\n",
    "\n",
    "    - To variabler\n",
    "        * riktig tall\n",
    "        * Gjettet tall\n",
    "    - En input variabel\n",
    "    - Vi trenger en if test for å sjekke om brukeren har gjettet riktig tall\n",
    "    - En print som forteller om brukeren traff riktig eller ikke.   \n",
    "    "
   ]
  },
  {
   "cell_type": "code",
   "execution_count": null,
   "metadata": {},
   "outputs": [],
   "source": [
    "\n"
   ]
  },
  {
   "cell_type": "markdown",
   "metadata": {},
   "source": [
    "# Randomisert tall\n",
    "\n",
    "For å gjøre spillet litt mer spennende, så lager vi et randomisert tall,\n",
    "vi må derfor hente inn en ekstern bibliotek, random.\n",
    "\n",
    "\n",
    "    - To variabler\n",
    "        * Randomisert fasit svar\n",
    "        * Gjettet tall\n",
    "  \n",
    "    - input som henter inn bruker tall\n",
    "    - en print som informerer om brukeren har riktig tall eller ikke\n",
    "        \n"
   ]
  },
  {
   "cell_type": "code",
   "execution_count": null,
   "metadata": {},
   "outputs": [],
   "source": []
  },
  {
   "cell_type": "markdown",
   "metadata": {},
   "source": [
    "## Spill med en løkke\n",
    "Vi utvider funksjonaliteten på forrige spill ved å lage en løkke. \n",
    "Vi trenger følgende:\n",
    "\n",
    "    - To variabler\n",
    "        * Randomisert fasit svar\n",
    "        * Gjettet tall\n",
    "    - en løkke som lar brukeren gå igjennom flere gjett.\n",
    "    - input som henter inn bruker tall\n",
    "    - en print som informerer om brukeren har riktig tall eller ikke\n",
    "        "
   ]
  },
  {
   "cell_type": "code",
   "execution_count": 12,
   "metadata": {},
   "outputs": [
    {
     "name": "stdin",
     "output_type": "stream",
     "text": [
      "Gjett et tall mellom 1 til 10:  5\n",
      "Gjett et tall mellom 1 og 10:  4\n",
      "Gjett et tall mellom 1 og 10:  3\n",
      "Gjett et tall mellom 1 og 10:  2\n",
      "Gjett et tall mellom 1 og 10:  1\n",
      "Gjett et tall mellom 1 og 10:  6\n"
     ]
    },
    {
     "name": "stdout",
     "output_type": "stream",
     "text": [
      "Du gjettet riktig! tallet var: 6\n"
     ]
    }
   ],
   "source": [
    "\n"
   ]
  },
  {
   "cell_type": "markdown",
   "metadata": {},
   "source": [
    "# Høy lav spill \n",
    "\n",
    "Under har dere en litt mer utvided spillprogram.\n",
    "Vi trenger følgende:\n",
    "    \n",
    "    - To variabler\n",
    "    * Randomisert fasit svar\n",
    "    * Gjettet tall\n",
    "- en løkke som lar brukeren gå igjennom flere gjett.\n",
    "- input som henter inn bruker tall\n",
    "- en print som informerer om brukeren har riktig tall eller ikke\n",
    "\n"
   ]
  },
  {
   "cell_type": "code",
   "execution_count": 10,
   "metadata": {},
   "outputs": [
    {
     "name": "stdin",
     "output_type": "stream",
     "text": [
      "Gjett et tall mellom 1 og 10:  5\n"
     ]
    },
    {
     "name": "stdout",
     "output_type": "stream",
     "text": [
      "høyere\n"
     ]
    },
    {
     "name": "stdin",
     "output_type": "stream",
     "text": [
      "Gjett et tall mellom 1 og 10:  6\n"
     ]
    },
    {
     "name": "stdout",
     "output_type": "stream",
     "text": [
      "høyere\n"
     ]
    },
    {
     "name": "stdin",
     "output_type": "stream",
     "text": [
      "Gjett et tall mellom 1 og 10:  7\n"
     ]
    },
    {
     "name": "stdout",
     "output_type": "stream",
     "text": [
      "\n",
      "\n",
      "Riktig tall : 7 \n",
      "Antall gjett: 3\n"
     ]
    }
   ],
   "source": []
  }
 ],
 "metadata": {
  "kernelspec": {
   "display_name": "Python 3",
   "language": "python",
   "name": "python3"
  },
  "language_info": {
   "codemirror_mode": {
    "name": "ipython",
    "version": 3
   },
   "file_extension": ".py",
   "mimetype": "text/x-python",
   "name": "python",
   "nbconvert_exporter": "python",
   "pygments_lexer": "ipython3",
   "version": "3.8.6"
  }
 },
 "nbformat": 4,
 "nbformat_minor": 4
}
