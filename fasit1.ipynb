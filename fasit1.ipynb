{
 "cells": [
  {
   "cell_type": "code",
   "execution_count": null,
   "metadata": {},
   "outputs": [],
   "source": []
  },
  {
   "cell_type": "markdown",
   "metadata": {},
   "source": [
    "Først starter vi enkelt med å bruke følgende funksjoner:\n",
    "    - print()\n",
    "    - input()\n",
    "\n",
    "Disse er to hovedfunksjoner vi skal fokusere på.\n"
   ]
  },
  {
   "cell_type": "code",
   "execution_count": 5,
   "metadata": {},
   "outputs": [
    {
     "name": "stdout",
     "output_type": "stream",
     "text": [
      "hello\n",
      "3\n",
      "1+2\n"
     ]
    }
   ],
   "source": [
    "# Først printer dere ut en string\n",
    "print(\"hello\")\n",
    "# Print ut 1+2, både som string og som en matteoppgave\n",
    "print(1+2)\n",
    "print(\"1+2\")"
   ]
  },
  {
   "cell_type": "markdown",
   "metadata": {},
   "source": [
    "## Vi fortsetter med print, men nå skal vi ta i bruk variabler.\n"
   ]
  },
  {
   "cell_type": "code",
   "execution_count": 4,
   "metadata": {},
   "outputs": [
    {
     "name": "stdout",
     "output_type": "stream",
     "text": [
      "5\n",
      "32\n",
      "60\n"
     ]
    }
   ],
   "source": [
    "\n",
    "# a + b = 5\n",
    "a = 3\n",
    "b = 2\n",
    "print(a+b)\n",
    "\n",
    "# a + b * c = 36\n",
    "a = 8\n",
    "b = 8\n",
    "c = 2\n",
    "print((a+b)*c)\n",
    "\n",
    "# a * b * c = 60\n",
    "a = 15\n",
    "b = 2\n",
    "c = 2\n",
    "print(a*b*c)\n"
   ]
  },
  {
   "cell_type": "markdown",
   "metadata": {},
   "source": [
    "Nå skal vi \"oversette\" formler til fungerende python kode\n",
    "\n"
   ]
  },
  {
   "cell_type": "code",
   "execution_count": 5,
   "metadata": {},
   "outputs": [
    {
     "name": "stdout",
     "output_type": "stream",
     "text": [
      "121.33333333333333\n"
     ]
    }
   ],
   "source": [
    "import math\n",
    "\n",
    "# (2+3)^2\n",
    "\n",
    " \n"
   ]
  },
  {
   "cell_type": "markdown",
   "metadata": {},
   "source": [
    "Nå importerer vi biblioteket math og begynner med litt matematikkfunksjoner. \n",
    "Vi kan bruke en del forskjellige funksjoner som ligger inne på math biblioteket.\n",
    "\n",
    "følgende funksjoner skal vi bruke under.\n",
    "\n",
    "    - math.pi\n",
    "    - math.sqrt()\n",
    "    \n",
    "\n"
   ]
  },
  {
   "cell_type": "code",
   "execution_count": 1,
   "metadata": {},
   "outputs": [
    {
     "name": "stdout",
     "output_type": "stream",
     "text": [
      "19.634954084936208\n"
     ]
    }
   ],
   "source": [
    "# Dette \"predefinerte\" funksjoner som man kan dra inn. \n",
    "from math import *\n",
    "\n",
    "#først løser vi sirkelareal:\n",
    "#\n",
    "# A=πr2\n",
    "#\n",
    "# radius skal være på 2.5\n",
    "# bruk math.pi for å regne ut\n",
    "# \n",
    "\n",
    "a = math.pi * 2.5**2\n",
    "print(a)"
   ]
  },
  {
   "cell_type": "code",
   "execution_count": null,
   "metadata": {},
   "outputs": [],
   "source": [
    "import math\n",
    "\n",
    "# Vi fortsetter med sirkel utregning, nå skal vi ta i bruk input() og float() funksjonen.\n",
    "# dere skal regne ut en sirkel med utgangspunkt i et oppgitt areal\n",
    "\n",
    "#først henter dere inn input(\"...\")\n",
    "areal = input(\"Hva er sirkelens areal?\")\n",
    "\n",
    "\n",
    "# deretter må dere omgjøre input fra string til float.\n",
    "areal = float(areal)\n",
    "\n",
    "#også regne ut radius\n",
    "\n",
    "radius = (areal/math.pi)**0.5\n",
    "\n",
    "\n",
    "print(\"Radius er: \",radius)\n"
   ]
  },
  {
   "cell_type": "code",
   "execution_count": null,
   "metadata": {},
   "outputs": [],
   "source": [
    "import math\n",
    "\n",
    "#Nå skal vi løse kvadraroten av tallet 2. \n",
    "# Her skal dere bruke math.sqrt(___).\n",
    "print(math.sqrt(2))\n"
   ]
  },
  {
   "cell_type": "code",
   "execution_count": null,
   "metadata": {},
   "outputs": [],
   "source": []
  },
  {
   "cell_type": "markdown",
   "metadata": {},
   "source": [
    "Nå skal dere selv søke opp funksjonen til hvordan man kan omgjøre fahrenheit til celsius.\n",
    "Her anbefales det å bruke søkemotor(google) til å finne en riktig formel.\n",
    "eks:\n",
    "    \"Convert celsius to python fahrenheit\"\n",
    "\n",
    "    "
   ]
  },
  {
   "cell_type": "code",
   "execution_count": 7,
   "metadata": {},
   "outputs": [
    {
     "name": "stdout",
     "output_type": "stream",
     "text": [
      "C:  32\n",
      "F:  89.6\n"
     ]
    }
   ],
   "source": [
    "# definer celsius\n",
    "c = 32\n",
    "\n",
    "# deretter formel for å omgjøre c til f.\n",
    "f = ((9*c)/5)+32\n",
    "print(\"C: \",c)\n",
    "print(\"F: \",f)\n",
    "\n",
    "\n",
    "\n"
   ]
  },
  {
   "cell_type": "code",
   "execution_count": null,
   "metadata": {},
   "outputs": [],
   "source": []
  }
 ],
 "metadata": {
  "kernelspec": {
   "display_name": "Python 3",
   "language": "python",
   "name": "python3"
  },
  "language_info": {
   "codemirror_mode": {
    "name": "ipython",
    "version": 3
   },
   "file_extension": ".py",
   "mimetype": "text/x-python",
   "name": "python",
   "nbconvert_exporter": "python",
   "pygments_lexer": "ipython3",
   "version": "3.8.6"
  }
 },
 "nbformat": 4,
 "nbformat_minor": 4
}
