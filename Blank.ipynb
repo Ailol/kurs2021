{
 "cells": [
  {
   "cell_type": "markdown",
   "metadata": {},
   "source": [
    "Vi regner ut følgende uttrykk:\n",
    "    1.  1+2  * 3\n",
    "    2. (1+2) / 3\n",
    "    3. (1+2) * 3\n",
    "    4. (1+2) * 3²       "
   ]
  },
  {
   "cell_type": "code",
   "execution_count": null,
   "metadata": {},
   "outputs": [],
   "source": [
    "# Lag et program som tar inn bruker input. Deretter evaluer bruker input med følgende parametere:\n",
    "#\n",
    "#    -15: print ut \"Det er kaldt ute, ta på en frakk\"\n",
    "#     15: print ut \"Det er varmt ute, ta av frakken\"\n",
    "#\n",
    "\n",
    "temp = float(input(\"Oppgi grader ute: \"))\n",
    "if temp <= -15:\n",
    "    print(\"Det er kaldt ute, ta på en frakk\")\n",
    "elif temp >= 15:\n",
    "    print(\"Det er varmt ute, ta av frakken\")\n",
    "else:\n",
    "    print(\"behagelig temperatur\")"
   ]
  },
  {
   "cell_type": "code",
   "execution_count": 1,
   "metadata": {},
   "outputs": [
    {
     "name": "stdout",
     "output_type": "stream",
     "text": [
      "19.634954084936208\n"
     ]
    }
   ],
   "source": [
    "# Dette \"predefinerte\" funksjoner som man kan dra inn. \n",
    "from math import *\n",
    "\n",
    "#først løser vi sirkelareal:\n",
    "#\n",
    "# A=πr2\n",
    "#\n",
    "# radius skal være på 2.5\n",
    "# bruk math.pi for å regne ut\n",
    "# \n",
    "\n",
    "a = math.pi * 2.5**2\n",
    "print(a)"
   ]
  },
  {
   "cell_type": "code",
   "execution_count": null,
   "metadata": {},
   "outputs": [],
   "source": [
    "Nå importerer vi biblioteket math og begynner med litt matematikkfunksjoner. \n",
    "Vi kan bruke en del forskjellige funksjoner som ligger inne på math biblioteket.\n",
    "\n",
    "følgende funksjoner skal vi bruke under.\n",
    "\n",
    "    - math.pi\n",
    "    - math.sqrt()\n",
    "    "
   ]
  },
  {
   "cell_type": "code",
   "execution_count": null,
   "metadata": {},
   "outputs": [],
   "source": [
    "import math\n",
    "\n",
    "#Nå skal vi løse kvadraroten av tallet 2. \n",
    "# Her skal dere bruke math.sqrt(___).\n",
    "print(math.sqrt(2))\n"
   ]
  },
  {
   "cell_type": "markdown",
   "metadata": {},
   "source": [
    "Nå skal dere selv søke opp funksjonen til hvordan man kan omgjøre fahrenheit til celsius.\n",
    "Her anbefales det å bruke søkemotor(google) til å finne en riktig formel.\n",
    "eks:\n",
    "    \"Convert celsius to python fahrenheit\"\n",
    "\n",
    "    "
   ]
  },
  {
   "cell_type": "code",
   "execution_count": 7,
   "metadata": {},
   "outputs": [
    {
     "name": "stdout",
     "output_type": "stream",
     "text": [
      "C:  32\n",
      "F:  89.6\n"
     ]
    }
   ],
   "source": [
    "# definer celsius\n",
    "c = 32\n",
    "\n",
    "# deretter formel for å omgjøre c til f.\n",
    "f = ((9*c)/5)+32\n",
    "print(\"C: \",c)\n",
    "print(\"F: \",f)\n",
    "\n",
    "\n",
    "\n"
   ]
  },
  {
   "cell_type": "code",
   "execution_count": null,
   "metadata": {},
   "outputs": [],
   "source": [
    "\n",
    "# Dere trenger følgende:\n",
    "#\n",
    "# 3 input verdier(start, stop, og spranget mellom temperaturer)\n",
    "#\n",
    "# Deretter en løkke for å regne ut og printe svaret.\n",
    "#\n",
    "# Pseudokode:\n",
    "# \n",
    "# start = hent bruker input\n",
    "# Slutt = hent bruker input\n",
    "# sprang = hent bruker input\n",
    "\n",
    "#\n",
    "# for teller i intervallet(x,y,n)\n",
    "#    fahrenheit = 1.8 * i + 32\n",
    "#    print(svaret)\n"
   ]
  }
 ],
 "metadata": {
  "kernelspec": {
   "display_name": "Python 3",
   "language": "python",
   "name": "python3"
  },
  "language_info": {
   "codemirror_mode": {
    "name": "ipython",
    "version": 3
   },
   "file_extension": ".py",
   "mimetype": "text/x-python",
   "name": "python",
   "nbconvert_exporter": "python",
   "pygments_lexer": "ipython3",
   "version": "3.8.6"
  }
 },
 "nbformat": 4,
 "nbformat_minor": 4
}
