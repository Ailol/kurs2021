{
 "cells": [
  {
   "cell_type": "markdown",
   "metadata": {},
   "source": [
    "Først starter vi enkelt med å bruke følgende funksjoner:\n",
    "    - print()\n",
    "    - input()\n",
    "\n",
    "Disse er to hovedfunksjoner vi skal fokusere på.\n"
   ]
  },
  {
   "cell_type": "code",
   "execution_count": null,
   "metadata": {},
   "outputs": [],
   "source": [
    "# Først printer dere ut en string\n",
    "\n",
    "# Print ut 1+2, både som string og som en matteoppgave\n"
   ]
  },
  {
   "cell_type": "markdown",
   "metadata": {},
   "source": [
    "## Vi fortsetter med print, men nå skal vi ta i bruk variabler.\n"
   ]
  },
  {
   "cell_type": "code",
   "execution_count": null,
   "metadata": {},
   "outputs": [],
   "source": [
    "\n",
    "# a + b = 5\n",
    "\n",
    "# a + b * c = 35\n",
    "\n",
    "# a * b * c = 60\n"
   ]
  },
  {
   "cell_type": "code",
   "execution_count": 3,
   "metadata": {},
   "outputs": [
    {
     "ename": "ModuleNotFoundError",
     "evalue": "No module named 'pylab'",
     "output_type": "error",
     "traceback": [
      "\u001b[0;31m---------------------------------------------------------------------------\u001b[0m",
      "\u001b[0;31mModuleNotFoundError\u001b[0m                       Traceback (most recent call last)",
      "\u001b[0;32m<ipython-input-3-c552bcbaf2d2>\u001b[0m in \u001b[0;36m<module>\u001b[0;34m\u001b[0m\n\u001b[0;32m----> 1\u001b[0;31m \u001b[0;32mfrom\u001b[0m \u001b[0mpylab\u001b[0m \u001b[0;32mimport\u001b[0m \u001b[0;34m*\u001b[0m\u001b[0;34m\u001b[0m\u001b[0;34m\u001b[0m\u001b[0m\n\u001b[0m",
      "\u001b[0;31mModuleNotFoundError\u001b[0m: No module named 'pylab'"
     ]
    }
   ],
   "source": [
    "Nå skal vi \"oversette\" formler til fungerende python kode\n",
    "\n"
   ]
  },
  {
   "cell_type": "code",
   "execution_count": 5,
   "metadata": {},
   "outputs": [
    {
     "name": "stdout",
     "output_type": "stream",
     "text": [
      "121.33333333333333\n"
     ]
    }
   ],
   "source": [
    "import math\n",
    "\n",
    "# (2+3)^2\n",
    " \n"
   ]
  },
  {
   "cell_type": "code",
   "execution_count": null,
   "metadata": {},
   "outputs": [],
   "source": [
    "Nå importerer vi biblioteket math og begynner med litt matematikkfunksjoner. \n",
    "Vi kan bruke en del forskjellige funksjoner som ligger inne på math biblioteket.\n",
    "\n",
    "følgende funksjoner skal vi bruke under.\n",
    "\n",
    "    - math.pi\n",
    "    - math.sqrt()\n",
    "    \n",
    "\n"
   ]
  },
  {
   "cell_type": "code",
   "execution_count": 6,
   "metadata": {},
   "outputs": [
    {
     "name": "stdout",
     "output_type": "stream",
     "text": [
      "19.634954084936208\n"
     ]
    }
   ],
   "source": [
    "# Dette \"predefinerte\" funksjoner som man kan dra inn. \n",
    "import math\n",
    "\n",
    "#først løser vi sirkelareal:\n",
    "#\n",
    "# A=πr2\n",
    "#\n",
    "# radius skal være på 2.5\n",
    "# bruk math.pi for å regne ut\n",
    "# \n",
    "\n"
   ]
  },
  {
   "cell_type": "code",
   "execution_count": 8,
   "metadata": {},
   "outputs": [
    {
     "data": {
      "text/plain": [
       "1.4142135623730951"
      ]
     },
     "execution_count": 8,
     "metadata": {},
     "output_type": "execute_result"
    }
   ],
   "source": [
    "import math\n",
    "\n",
    "#Nå skal vi løse kvadraroten av tallet 2. \n",
    "# Her skal dere bruke math.sqrt(___).\n",
    "\n"
   ]
  },
  {
   "cell_type": "code",
   "execution_count": 10,
   "metadata": {},
   "outputs": [
    {
     "name": "stdin",
     "output_type": "stream",
     "text": [
      "Hva er sirkelens areal? 2\n"
     ]
    },
    {
     "name": "stdout",
     "output_type": "stream",
     "text": [
      "Radius er:  0.7978845608028654\n"
     ]
    }
   ],
   "source": [
    "\n",
    "import math\n",
    "\n",
    "# Vi fortsetter med sirkel utregning, nå skal vi ta i bruk input() og float() funksjonen.\n",
    "# dere skal regne ut en sirkel med utgangspunkt i et oppgitt areal\n",
    "\n",
    "# først henter dere inn input(\"...\")\n",
    "\n",
    "# deretter må dere omgjøre input fra string til float.\n",
    "\n",
    "# også regne ut radius, formel for radius er (areal/pi)**0.5\n",
    "\n",
    "\n",
    "print(\"Radius er: \",radius)"
   ]
  },
  {
   "cell_type": "code",
   "execution_count": null,
   "metadata": {},
   "outputs": [],
   "source": [
    "Nå skal dere selv søke opp funksjonen til hvordan man kan omgjøre fahrenheit til celsius.\n",
    "Her anbefales det å bruke søkemotor(google) til å finne en riktig formel.\n",
    "eks:\n",
    "    \"Convert celsius to python fahrenheit\"\n",
    "\n",
    "    "
   ]
  },
  {
   "cell_type": "code",
   "execution_count": 7,
   "metadata": {},
   "outputs": [
    {
     "name": "stdout",
     "output_type": "stream",
     "text": [
      "C:  32\n",
      "F:  89.6\n"
     ]
    }
   ],
   "source": [
    "# definer celsius\n",
    "c = 32\n",
    "\n",
    "# deretter formel for å omgjøre c til f.\n",
    "f = ((9*c)/5)+32\n",
    "print(\"C: \",c)\n",
    "print(\"F: \",f)\n",
    "\n",
    "\n",
    "\n"
   ]
  },
  {
   "cell_type": "code",
   "execution_count": null,
   "metadata": {},
   "outputs": [],
   "source": []
  }
 ],
 "metadata": {
  "kernelspec": {
   "display_name": "Python 3",
   "language": "python",
   "name": "python3"
  },
  "language_info": {
   "codemirror_mode": {
    "name": "ipython",
    "version": 3
   },
   "file_extension": ".py",
   "mimetype": "text/x-python",
   "name": "python",
   "nbconvert_exporter": "python",
   "pygments_lexer": "ipython3",
   "version": "3.8.6"
  }
 },
 "nbformat": 4,
 "nbformat_minor": 4
}
